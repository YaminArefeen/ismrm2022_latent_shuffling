{
 "cells": [
  {
   "cell_type": "code",
   "execution_count": null,
   "metadata": {},
   "outputs": [],
   "source": [
    "from typing import List, Optional\n",
    "\n",
    "import torch\n",
    "import torch.nn as nn\n",
    "import torch.nn.functional as F\n",
    "import torch.optim as optim\n",
    "import scipy.io as sio\n",
    "import numpy as np\n",
    "import time \n",
    "import matplotlib.pyplot as plt\n",
    "\n",
    "import bart \n",
    "\n",
    "from python_utils import models\n",
    "from python_utils import signalprocessing as sig"
   ]
  },
  {
   "cell_type": "markdown",
   "metadata": {},
   "source": [
    "### helper functions "
   ]
  },
  {
   "cell_type": "code",
   "execution_count": null,
   "metadata": {},
   "outputs": [],
   "source": [
    "def roll_one_dim(x: torch.Tensor, shift: int, dim: int) -> torch.Tensor:\n",
    "    \"\"\"\n",
    "    Similar to roll but for only one dim.\n",
    "    Args:\n",
    "        x: A PyTorch tensor.\n",
    "        shift: Amount to roll.\n",
    "        dim: Which dimension to roll.\n",
    "    Returns:\n",
    "        Rolled version of x.\n",
    "    \"\"\"\n",
    "    shift = shift % x.size(dim)\n",
    "    if shift == 0:\n",
    "        return x\n",
    "\n",
    "    left = x.narrow(dim, 0, x.size(dim) - shift)\n",
    "    right = x.narrow(dim, x.size(dim) - shift, shift)\n",
    "\n",
    "    return torch.cat((right, left), dim=dim)\n",
    "\n",
    "def roll(\n",
    "    x: torch.Tensor,\n",
    "    shift: List[int],\n",
    "    dim: List[int],\n",
    ") -> torch.Tensor:\n",
    "    \"\"\"\n",
    "    Similar to np.roll but applies to PyTorch Tensors.\n",
    "    Args:\n",
    "        x: A PyTorch tensor.\n",
    "        shift: Amount to roll.\n",
    "        dim: Which dimension to roll.\n",
    "    Returns:\n",
    "        Rolled version of x.\n",
    "    \"\"\"\n",
    "    if len(shift) != len(dim):\n",
    "        raise ValueError(\"len(shift) must match len(dim)\")\n",
    "\n",
    "    for (s, d) in zip(shift, dim):\n",
    "        x = roll_one_dim(x, s, d)\n",
    "\n",
    "    return x\n",
    "\n",
    "\n",
    "def fftshift(x: torch.Tensor, dim: Optional[List[int]] = None) -> torch.Tensor:\n",
    "    \"\"\"\n",
    "    Similar to np.fft.fftshift but applies to PyTorch Tensors\n",
    "    Args:\n",
    "        x: A PyTorch tensor.\n",
    "        dim: Which dimension to fftshift.\n",
    "    Returns:\n",
    "        fftshifted version of x.\n",
    "    \"\"\"\n",
    "    if dim is None:\n",
    "        # this weird code is necessary for toch.jit.script typing\n",
    "        dim = [0] * (x.dim())\n",
    "        for i in range(1, x.dim()):\n",
    "            dim[i] = i\n",
    "\n",
    "    # also necessary for torch.jit.script\n",
    "    shift = [0] * len(dim)\n",
    "    for i, dim_num in enumerate(dim):\n",
    "        shift[i] = x.shape[dim_num] // 2\n",
    "\n",
    "    return roll(x, shift, dim)\n",
    "\n",
    "\n",
    "def ifftshift(x: torch.Tensor, dim: Optional[List[int]] = None) -> torch.Tensor:\n",
    "    \"\"\"\n",
    "    Similar to np.fft.ifftshift but applies to PyTorch Tensors\n",
    "    Args:\n",
    "        x: A PyTorch tensor.\n",
    "        dim: Which dimension to ifftshift.\n",
    "    Returns:\n",
    "        ifftshifted version of x.\n",
    "    \"\"\"\n",
    "    if dim is None:\n",
    "        # this weird code is necessary for toch.jit.script typing\n",
    "        dim = [0] * (x.dim())\n",
    "        for i in range(1, x.dim()):\n",
    "            dim[i] = i\n",
    "\n",
    "    # also necessary for torch.jit.script\n",
    "    shift = [0] * len(dim)\n",
    "    for i, dim_num in enumerate(dim):\n",
    "        shift[i] = (x.shape[dim_num] + 1) // 2\n",
    "\n",
    "    return roll(x, shift, dim)\n",
    "\n",
    "tonpy = lambda x: torch.view_as_complex(x).cpu().numpy()"
   ]
  },
  {
   "cell_type": "markdown",
   "metadata": {},
   "source": [
    "### loading data"
   ]
  },
  {
   "cell_type": "code",
   "execution_count": null,
   "metadata": {},
   "outputs": [],
   "source": [
    "dictionary = sio.loadmat('data/dictionary.mat')['dictionary']\n",
    "fort2shfl  = sio.loadmat('data/for_t2shfl.mat')\n",
    "\n",
    "mask      = fort2shfl['for_t2shfl'][0][0][0]\n",
    "kspace    = fort2shfl['for_t2shfl'][0][0][1]\n",
    "coils     = fort2shfl['for_t2shfl'][0][0][2]\n",
    "truth     = fort2shfl['for_t2shfl'][0][0][3]\n",
    "\n",
    "all_num_latent_linear = [2,3,4];\n",
    "latent_num = 1"
   ]
  },
  {
   "cell_type": "markdown",
   "metadata": {},
   "source": [
    "### generating linear subspace"
   ]
  },
  {
   "cell_type": "code",
   "execution_count": null,
   "metadata": {},
   "outputs": [],
   "source": [
    "all_basis = []\n",
    "\n",
    "for num_latent_linear in all_num_latent_linear:\n",
    "    [U,S,V] = np.linalg.svd(dictionary,full_matrices=False)\n",
    "    basis   = U[:,:num_latent_linear]\n",
    "    \n",
    "    all_basis.append(basis)"
   ]
  },
  {
   "cell_type": "markdown",
   "metadata": {},
   "source": [
    "### building forward model and generating k-space"
   ]
  },
  {
   "cell_type": "code",
   "execution_count": null,
   "metadata": {},
   "outputs": [],
   "source": [
    "device = torch.device(\"cuda:0\" if torch.cuda.is_available() else \"cpu\")\n",
    "\n",
    "[M,N,C,E] = kspace.shape\n",
    "\n",
    "# basis_torch   = torch.stack((torch.tensor(np.real(basis),dtype=torch.float),\\\n",
    "#                 torch.tensor(np.imag(basis),dtype=torch.float)),dim=-1).to(device)\n",
    "# basis_torch.requires_grad = False\n",
    "\n",
    "coils_torch   = torch.stack((torch.tensor(np.real(coils),dtype=torch.float),\\\n",
    "                torch.tensor(np.imag(coils),dtype=torch.float)),dim=-1).to(device).reshape(M,N,C,1,2)\n",
    "coils_torch.requires_grad = False\n",
    "\n",
    "mask_torch    = torch.stack((torch.tensor(mask,dtype=torch.float),\\\n",
    "                             torch.tensor(mask,dtype=torch.float)),dim=-1).to(device)\n",
    "mask_torch.requires_grad = False"
   ]
  },
  {
   "cell_type": "code",
   "execution_count": null,
   "metadata": {},
   "outputs": [],
   "source": [
    "def sfor(x,CC):\n",
    "    '''\n",
    "    Performs forward coil sensitivity multiplication\n",
    "    inputs:\n",
    "        x  (M x N x 1 x T x 2)    - time series of images\n",
    "        CC (M x N x C x 1 x 2)    - coil sensitivity functions\n",
    "    output\n",
    "        out (M x N x C x T x 2)   - output\n",
    "    '''\n",
    "    return torch.stack((x[..., 0] * CC[..., 0] - x[..., 1] * CC[..., 1],\\\n",
    "                       x[..., 0] * CC[..., 1] + x[..., 1] * CC[..., 0]),-1)\n",
    "\n",
    "def ffor(data):\n",
    "    '''\n",
    "    Performs a forward fourier transform\n",
    "    inputs:\n",
    "          x (M x N x C x T x 2)\n",
    "    outputs:\n",
    "        out (M x N x X x T x 2)\n",
    "             \n",
    "    '''\n",
    "    \n",
    "    return ifftshift(torch.fft(fftshift(data,dim = [0,1]).permute(2,3,0,1,4),signal_ndim = 2,normalized = True).permute(2,3,0,1,4),dim = [0,1])\n",
    "\n",
    "def R(data,mask):\n",
    "    '''\n",
    "    Apply undersampling mask to some input\n",
    "    inputs:\n",
    "        data  (M x N x C x T x 2)     - input to be masked\n",
    "        mask  (M x N x 1 x T x 1)     - mask to be applied\n",
    "    '''\n",
    "    \n",
    "    return data * mask\n",
    "\n",
    "def Dfor(model):\n",
    "    '''\n",
    "    Takes an input data through the decoder trained for compressing signal evolution\n",
    "    input\n",
    "        data (M*N x L x 2)   - input data\n",
    "        model              - neural network model\n",
    "    output\n",
    "        out (256 x 256 x 1 x T x 2)\n",
    "    '''\n",
    "    \n",
    "    out = model.decode(x)\n",
    "    return torch.stack((out * xr,out * xi),-1).reshape(M,N,1,E,2)"
   ]
  },
  {
   "cell_type": "code",
   "execution_count": null,
   "metadata": {},
   "outputs": [],
   "source": [
    "kspace_torch   = torch.stack((torch.tensor(np.real(kspace),dtype=torch.float),\\\n",
    "                torch.tensor(np.imag(kspace),dtype=torch.float)),dim=-1).to(device)\n",
    "kspace_torch.requires_grad = False\n",
    "\n",
    "kspace_torch = R(kspace_torch,mask_torch)"
   ]
  },
  {
   "cell_type": "markdown",
   "metadata": {},
   "source": [
    "### loading auto-encoder model "
   ]
  },
  {
   "cell_type": "code",
   "execution_count": null,
   "metadata": {},
   "outputs": [],
   "source": [
    "model = torch.load('data/model_type_2_latent_1_epochs_200000.pt').to(device)\n",
    "\n",
    "for param in model.parameters():\n",
    "    param.requires_grad = False"
   ]
  },
  {
   "cell_type": "markdown",
   "metadata": {},
   "source": [
    "### performing reconstruction "
   ]
  },
  {
   "cell_type": "code",
   "execution_count": null,
   "metadata": {},
   "outputs": [],
   "source": [
    "x  = torch.zeros(M*N,latent_num).to(device).detach()\n",
    "\n",
    "xr = torch.ones(M*N,1).to(device).detach() \n",
    "xi = torch.zeros(M*N,1).to(device).detach() \n",
    "\n",
    "\n",
    "x.requires_grad  = True\n",
    "xr.requires_grad = True\n",
    "xi.requires_grad = True\n",
    "\n",
    "criterion   = nn.MSELoss()\n",
    "optimizer   = optim.Adam([x,xr,xi],lr = 1e0)\n",
    "iterations  = 2000\n",
    "\n",
    "for iter in range(iterations):\n",
    "    optimizer.zero_grad()\n",
    "    \n",
    "    loss   = criterion(kspace_torch,R(ffor(sfor(Dfor(model),coils_torch)),mask_torch))\n",
    "    loss.backward()\n",
    "    optimizer.step()\n",
    "    \n",
    "    running_loss = loss.item()\n",
    "    \n",
    "    if iter % 1 == 0:\n",
    "        print('iteration %d / %d, current loss: %.12f' % (iter,iterations,running_loss))"
   ]
  },
  {
   "cell_type": "code",
   "execution_count": null,
   "metadata": {},
   "outputs": [],
   "source": [
    "T2    = np.squeeze(x.reshape(M,N,latent_num).detach()).cpu().numpy()\n",
    "real  = np.squeeze(xr.reshape(M,N,1).detach()).cpu().numpy()\n",
    "imag  = np.squeeze(xi.reshape(M,N,1).detach()).cpu().numpy()\n",
    "\n",
    "timeseries_decoder = tonpy((Dfor(model).detach().squeeze().contiguous()))"
   ]
  },
  {
   "cell_type": "markdown",
   "metadata": {},
   "source": [
    "### computing bart reconstructions"
   ]
  },
  {
   "cell_type": "code",
   "execution_count": null,
   "metadata": {},
   "outputs": [],
   "source": [
    "import cfl\n",
    "\n",
    "all_coeffs_bart     = []\n",
    "all_timeseries_bart = []\n",
    "ctr = 1\n",
    "for basis in all_basis:\n",
    "    print('reconstruction %d' % ctr)\n",
    "    ctr+=1\n",
    "    \n",
    "    B = basis.shape[1]\n",
    "    \n",
    "    kspace_bart = (kspace * mask).reshape(M,N,1,C,1,E)\n",
    "    coils_bart  = coils.reshape(M,N,1,C,1)\n",
    "    basis_bart  = basis.reshape(1,1,1,1,1,E,B)\n",
    "\n",
    "    cfl.writecfl('bart_basis/basis_bart',basis_bart)\n",
    "    coeffs_bart = np.squeeze(bart.bart(1,'pics -B bart_basis/basis_bart -i 50',kspace_bart,coils_bart)).transpose(2,0,1)\n",
    "    print(' done')\n",
    "    \n",
    "    timeseries_bart = (basis @ coeffs_bart.reshape(B,M*N)).reshape(E,M,N).transpose(1,2,0)\n",
    "    \n",
    "    all_coeffs_bart.append(coeffs_bart)\n",
    "    all_timeseries_bart.append(timeseries_bart)"
   ]
  },
  {
   "cell_type": "markdown",
   "metadata": {},
   "source": [
    "### comparisons at a partcular echo "
   ]
  },
  {
   "cell_type": "code",
   "execution_count": null,
   "metadata": {},
   "outputs": [],
   "source": [
    "lin_idx = 1\n",
    "\n",
    "#Masking out results outside of the brain\n",
    "brain_mask = np.zeros((M,N))\n",
    "brain_mask[np.where(np.abs(truth[:,:,0,0])>0)] =1\n",
    "brain_mask = np.expand_dims(brain_mask,axis=2)\n",
    "ech = 0\n",
    "\n",
    "timeseries_truth = np.abs(np.squeeze(truth))\n",
    "\n",
    "truth_show   = sig.nor(timeseries_truth[:,:,ech:ech+1]*brain_mask)\n",
    "decoder_show = sig.nor(np.abs(timeseries_decoder[:,:,ech:ech+1])*brain_mask)\n",
    "bart_show    = sig.nor(np.abs(all_timeseries_bart[lin_idx][:,:,ech:ech+1]*brain_mask))\n",
    "\n",
    "display = np.concatenate((truth_show,bart_show,decoder_show),axis = -1).transpose(2,0,1)\n",
    "\n",
    "sig.mosaic(sig.nor(display),1,3)\n",
    "\n",
    "print('rmse at echo %d' % ech)\n",
    "print('  bart:      %.2f' % (sig.rmse(truth_show,bart_show)*100))\n",
    "print('  proposed:  %.2f' % (sig.rmse(truth_show,decoder_show)*100))"
   ]
  },
  {
   "cell_type": "markdown",
   "metadata": {},
   "source": [
    "### rmse comparison plot across all echoes"
   ]
  },
  {
   "cell_type": "code",
   "execution_count": null,
   "metadata": {},
   "outputs": [],
   "source": [
    "rmse_decoder = np.zeros(E)\n",
    "rmse_bart    = np.zeros((E,len(all_num_latent_linear)))\n",
    "\n",
    "decoder    = timeseries_decoder * brain_mask\n",
    "truth_comp = timeseries_truth * brain_mask\n",
    "for ee in range(E):\n",
    "    rmse_decoder[ee] = sig.rmse(sig.nor(truth_comp[:,:,ee]),sig.nor(np.abs(decoder[:,:,ee])))\n",
    "    \n",
    "for ll in range(len(all_num_latent_linear)):\n",
    "    bart_comp    = all_timeseries_bart[ll] * brain_mask\n",
    "    \n",
    "    for ee in range(E):\n",
    "        rmse_bart[ee,ll] = sig.rmse(sig.nor(truth_comp[:,:,ee]),sig.nor(np.abs(bart_comp[:,:,ee])))\n",
    "        \n",
    "plt.plot(rmse_bart)\n",
    "plt.plot(rmse_decoder)\n",
    "\n",
    "legend = []\n",
    "for ll in all_num_latent_linear:\n",
    "    legend.append('linear %d' % ll)\n",
    "\n",
    "legend.append('proposed %d' % latent_num)\n",
    "\n",
    "plt.legend(legend)\n",
    "plt.show()"
   ]
  },
  {
   "cell_type": "code",
   "execution_count": null,
   "metadata": {},
   "outputs": [],
   "source": []
  }
 ],
 "metadata": {
  "kernelspec": {
   "display_name": "Python 3",
   "language": "python",
   "name": "python3"
  },
  "language_info": {
   "codemirror_mode": {
    "name": "ipython",
    "version": 3
   },
   "file_extension": ".py",
   "mimetype": "text/x-python",
   "name": "python",
   "nbconvert_exporter": "python",
   "pygments_lexer": "ipython3",
   "version": "3.8.3"
  }
 },
 "nbformat": 4,
 "nbformat_minor": 4
}
